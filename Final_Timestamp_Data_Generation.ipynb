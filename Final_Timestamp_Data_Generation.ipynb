{
  "cells": [
    {
      "cell_type": "code",
      "execution_count": null,
      "metadata": {
        "colab": {
          "base_uri": "https://localhost:8080/"
        },
        "id": "z1q0d4p9bsVb",
        "outputId": "2b27fdf8-6f63-4073-db14-eda337eb320d"
      },
      "outputs": [
        {
          "ename": "",
          "evalue": "",
          "output_type": "error",
          "traceback": [
            "\u001b[1;31mRunning cells with 'Python 3.12.3' requires the ipykernel package.\n",
            "\u001b[1;31mRun the following command to install 'ipykernel' into the Python environment. \n",
            "\u001b[1;31mCommand: 'c:/Users/kanna/AppData/Local/Programs/Python/Python312/python.exe -m pip install ipykernel -U --user --force-reinstall'"
          ]
        }
      ],
      "source": [
        "!pip install sdv"
      ]
    },
    {
      "cell_type": "code",
      "execution_count": null,
      "metadata": {
        "id": "LTUR28EMbwLw"
      },
      "outputs": [],
      "source": [
        "import numpy as np\n",
        "import pandas as pd\n",
        "from sdv.single_table import CTGANSynthesizer\n",
        "from sdv.metadata import SingleTableMetadata\n",
        "from datetime import datetime, timedelta\n"
      ]
    },
    {
      "cell_type": "code",
      "execution_count": null,
      "metadata": {
        "id": "zSVsUKjwpu3p"
      },
      "outputs": [],
      "source": [
        "# Sensor Specifications\n",
        "PL, PH = 10.0, 115.0  # Pressure range (kPa)\n",
        "OL, OH = 0.400, 4.650  # Output voltage range (V)\n",
        "A, B = 0.008095, -0.000952  # Gain and offset\n",
        "VDD = 5.0  # Supply voltage"
      ]
    },
    {
      "cell_type": "code",
      "execution_count": null,
      "metadata": {
        "id": "RwBIreP-p0yb"
      },
      "outputs": [],
      "source": [
        "# Define vehicle states with expected ranges\n",
        "vehicle_states = [\n",
        "    (\"Engine OFF\", (95, 105), (4.5, 4.9)),\n",
        "    (\"Idle\", (20, 35), (0.9, 1.5)),\n",
        "    (\"Acceleration\", (40, 70), (2.0, 3.5)),\n",
        "    (\"Throttle Release\", (10, 30), (0.5, 1.3)),\n",
        "    (\"Wide Open Throttle\", (95, 101), (4.0, 4.8))\n",
        "]"
      ]
    },
    {
      "cell_type": "code",
      "execution_count": null,
      "metadata": {
        "id": "Uh5lQyfjp22H"
      },
      "outputs": [],
      "source": [
        "# Generate initial real-like data\n",
        "num_samples = 5000\n",
        "pressure_values = np.random.uniform(PL, PH, num_samples) + np.random.normal(0, 2, num_samples)  # Adding noise to pressure\n",
        "voltage_values = ((A * pressure_values + B) * VDD) + np.random.normal(0, 0.1, num_samples)  # Adding noise to voltage"
      ]
    },
    {
      "cell_type": "code",
      "execution_count": null,
      "metadata": {
        "id": "u7aUwIbAp5BF"
      },
      "outputs": [],
      "source": [
        "# Ensure some voltage values are exactly 0 or 5\n",
        "num_special_cases = int(0.15 * num_samples)\n",
        "special_indices = np.random.choice(num_samples, num_special_cases, replace=False)\n",
        "voltage_values[special_indices[:num_special_cases // 3]] = 0.0\n",
        "voltage_values[special_indices[num_special_cases // 3:num_special_cases * 2 // 3]] = 5.0"
      ]
    },
    {
      "cell_type": "code",
      "execution_count": null,
      "metadata": {
        "id": "Xuw4Dh-pp6xI"
      },
      "outputs": [],
      "source": [
        "# Assign vehicle states\n",
        "def get_vehicle_state(pressure, voltage):\n",
        "    min_distance = float(\"inf\")\n",
        "    closest_state = \"Unknown\"\n",
        "\n",
        "    for state, p_range, v_range in vehicle_states:\n",
        "        p_mid = sum(p_range) / 2\n",
        "        v_mid = sum(v_range) / 2\n",
        "        distance = abs(pressure - p_mid) + abs(voltage - v_mid)\n",
        "\n",
        "        if distance < min_distance:\n",
        "            min_distance = distance\n",
        "            closest_state = state\n",
        "\n",
        "    return closest_state"
      ]
    },
    {
      "cell_type": "code",
      "execution_count": null,
      "metadata": {
        "id": "PYHjfGmkp9Gu"
      },
      "outputs": [],
      "source": [
        "vehicle_state_values = [get_vehicle_state(p, v) for p, v in zip(pressure_values, voltage_values)]\n"
      ]
    },
    {
      "cell_type": "code",
      "execution_count": null,
      "metadata": {
        "id": "6kSAdRJFp-1-"
      },
      "outputs": [],
      "source": [
        "# Assign fault types\n",
        "def get_fault_type(pressure, voltage):\n",
        "    if voltage == 0.0:\n",
        "        return \"Wiring Issue\"\n",
        "    elif voltage == 5.0:\n",
        "        return \"Power Supply Issue\"\n",
        "    elif pressure < PL or pressure > PH:\n",
        "        return \"Sensor Fault\"\n",
        "    return \"Normal\""
      ]
    },
    {
      "cell_type": "code",
      "execution_count": null,
      "metadata": {
        "id": "G1860H5LqAWt"
      },
      "outputs": [],
      "source": [
        "fault_types = [get_fault_type(p, v) for p, v in zip(pressure_values, voltage_values)]\n"
      ]
    },
    {
      "cell_type": "code",
      "execution_count": null,
      "metadata": {
        "id": "6ZzfQNvpsWjt"
      },
      "outputs": [],
      "source": [
        "# Balance fault conditions\n",
        "fault_counts = {\"Normal\": 2000, \"Sensor Fault\": 2000, \"Wiring Issue\": 2000, \"Power Supply Issue\": 2000}\n",
        "selected_indices = []\n",
        "\n",
        "for fault, count in fault_counts.items():\n",
        "    indices = [i for i, f in enumerate(fault_types) if f == fault]\n",
        "    if len(indices) >= count:\n",
        "        selected_indices.extend(np.random.choice(indices, count, replace=False))\n",
        "    else:\n",
        "        selected_indices.extend(indices)\n",
        "        additional_indices = np.random.choice(indices, count - len(indices), replace=True)\n",
        "        selected_indices.extend(additional_indices)\n",
        "\n",
        "pressure_values = np.array(pressure_values)[selected_indices]\n",
        "voltage_values = np.array(voltage_values)[selected_indices]\n",
        "vehicle_state_values = np.array(vehicle_state_values)[selected_indices]\n",
        "fault_types = np.array(fault_types)[selected_indices]\n"
      ]
    },
    {
      "cell_type": "code",
      "execution_count": null,
      "metadata": {
        "id": "86psZq8mqDur"
      },
      "outputs": [],
      "source": [
        "# Reduce normal condition\n",
        "normal_indices = [i for i, f in enumerate(fault_types) if f == \"Normal\"]\n",
        "fault_indices = [i for i, f in enumerate(fault_types) if f != \"Normal\"]\n",
        "reduce_normal = int(0.4 * len(normal_indices))\n",
        "selected_normals = np.random.choice(normal_indices, len(normal_indices) - reduce_normal, replace=False)\n",
        "selected_indices = np.concatenate((selected_normals, fault_indices))\n",
        "\n",
        "pressure_values = np.array(pressure_values)[selected_indices]\n",
        "voltage_values = np.array(voltage_values)[selected_indices]\n",
        "vehicle_state_values = np.array(vehicle_state_values)[selected_indices]\n",
        "fault_types = np.array(fault_types)[selected_indices]"
      ]
    },
    {
      "cell_type": "code",
      "execution_count": null,
      "metadata": {
        "id": "KHlxTcYHqF_8"
      },
      "outputs": [],
      "source": [
        "# Generate timestamps\n",
        "start_time = datetime.now()\n",
        "timestamps = [start_time + timedelta(seconds=i) for i in range(len(selected_indices))]"
      ]
    },
    {
      "cell_type": "code",
      "execution_count": null,
      "metadata": {
        "id": "gkLV10RtqHuu"
      },
      "outputs": [],
      "source": [
        "# Create DataFrame\n",
        "real_data = pd.DataFrame({\n",
        "    \"Timestamp\": timestamps,\n",
        "    \"Pressure (kPa)\": pressure_values,\n",
        "    \"Voltage (V)\": voltage_values,\n",
        "    \"Vehicle State\": vehicle_state_values,\n",
        "    \"Fault Type\": fault_types\n",
        "})"
      ]
    },
    {
      "cell_type": "code",
      "execution_count": null,
      "metadata": {
        "id": "IcjeRTYUqJ7C"
      },
      "outputs": [],
      "source": [
        "# Define metadata\n",
        "metadata = SingleTableMetadata()\n",
        "metadata.detect_from_dataframe(real_data)\n",
        "metadata.update_column(\"Vehicle State\", sdtype=\"categorical\")\n",
        "metadata.update_column(\"Fault Type\", sdtype=\"categorical\")\n"
      ]
    },
    {
      "cell_type": "code",
      "execution_count": null,
      "metadata": {
        "colab": {
          "base_uri": "https://localhost:8080/"
        },
        "id": "8QcAl_11qLmm",
        "outputId": "9f28f7f9-e6d8-4adc-90ee-6bee7a99a932"
      },
      "outputs": [],
      "source": [
        "# Train CTGAN model\n",
        "ctgan = CTGANSynthesizer(metadata=metadata)\n",
        "ctgan.fit(real_data)\n"
      ]
    },
    {
      "cell_type": "code",
      "execution_count": null,
      "metadata": {
        "id": "01uwsnV5qNVf"
      },
      "outputs": [],
      "source": [
        "# Generate synthetic data\n",
        "synthetic_data = ctgan.sample(10000)"
      ]
    },
    {
      "cell_type": "code",
      "execution_count": null,
      "metadata": {
        "id": "7SIJZpvkq24t"
      },
      "outputs": [],
      "source": [
        "# Ensure only valid vehicle states exist in synthetic data\n",
        "valid_states = {state[0] for state in vehicle_states}\n",
        "synthetic_data = synthetic_data[synthetic_data[\"Vehicle State\"].isin(valid_states)]"
      ]
    },
    {
      "cell_type": "code",
      "execution_count": null,
      "metadata": {
        "id": "RzMOY4GOq4rJ"
      },
      "outputs": [],
      "source": [
        "# Ensure fault types include all expected categories\n",
        "valid_faults = {\"Normal\", \"Sensor Fault\", \"Wiring Issue\", \"Power Supply Issue\"}\n",
        "synthetic_data = synthetic_data[synthetic_data[\"Fault Type\"].isin(valid_faults)]\n"
      ]
    },
    {
      "cell_type": "code",
      "execution_count": null,
      "metadata": {
        "colab": {
          "base_uri": "https://localhost:8080/"
        },
        "id": "dPosr-SYq6Py",
        "outputId": "cdd9adbc-c00f-4958-e551-189fc89c29bb"
      },
      "outputs": [],
      "source": [
        "# Display sample dataset\n",
        "print(synthetic_data.head())\n"
      ]
    },
    {
      "cell_type": "code",
      "execution_count": null,
      "metadata": {
        "colab": {
          "base_uri": "https://localhost:8080/",
          "height": 17
        },
        "id": "GduYdb5aq7rc",
        "outputId": "2d9266a8-4627-4415-e3ab-36262f033754"
      },
      "outputs": [],
      "source": [
        "from google.colab import files\n",
        "\n",
        "# Save synthetic data to CSV\n",
        "synthetic_data.to_csv(\"synthetic_dataset.csv\", index=False)\n",
        "\n",
        "# Download the file\n",
        "files.download(\"synthetic_dataset.csv\")"
      ]
    },
    {
      "cell_type": "code",
      "execution_count": null,
      "metadata": {
        "id": "mYR3ZJKJrFik"
      },
      "outputs": [],
      "source": []
    }
  ],
  "metadata": {
    "colab": {
      "provenance": []
    },
    "kernelspec": {
      "display_name": "Python 3",
      "name": "python3"
    },
    "language_info": {
      "name": "python",
      "version": "3.12.3"
    }
  },
  "nbformat": 4,
  "nbformat_minor": 0
}
